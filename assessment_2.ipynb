{
 "cells": [
  {
   "cell_type": "code",
   "execution_count": 7,
   "metadata": {},
   "outputs": [],
   "source": [
    "import pandas as pd\n",
    "import time"
   ]
  },
  {
   "cell_type": "code",
   "execution_count": 8,
   "metadata": {},
   "outputs": [
    {
     "name": "stderr",
     "output_type": "stream",
     "text": [
      "/Users/xbbu/work/recommendation_system/python_362/venv/lib/python3.6/site-packages/IPython/core/interactiveshell.py:2728: DtypeWarning: Columns (0,7) have mixed types. Specify dtype option on import or set low_memory=False.\n",
      "  interactivity=interactivity, compiler=compiler, result=result)\n"
     ]
    }
   ],
   "source": [
    "# load uncorrupted data locally\n",
    "df_uncorr = pd.read_csv('uncorr.csv')"
   ]
  },
  {
   "cell_type": "code",
   "execution_count": 9,
   "metadata": {},
   "outputs": [],
   "source": [
    "## Use Pandas\n",
    "# get top 25 Makes\n",
    "pandas_st = time.time()\n",
    "top_makes = list(df_uncorr.Make.value_counts()[:25].index)\n",
    "pandas_top_makes = time.time()\n",
    "\n",
    "# get most common color for each Make\n",
    "pandas_color_dict = {}\n",
    "for im in top_makes:\n",
    "    df_im = df_uncorr[['Make', 'Color']].query('Make == \"{}\"'.format(im))\n",
    "    top_color = list(df_im.Color.value_counts()[:1].index)\n",
    "    #print(im, top_color)\n",
    "    pandas_color_dict[im] = top_color[0]\n",
    "pandas_top_color = time.time()\n",
    "\n",
    "# get first ticket issued for each Make\n",
    "pandas_first_ticket_dict = {}\n",
    "for im in top_makes:\n",
    "    df_im = df_uncorr[['Make', 'Issue Date']].query(\n",
    "        'Make == \"{}\"'.format(im)).sort_values('Issue Date')\n",
    "    df_im = df_im.reset_index(drop=True)\n",
    "    im_first = df_im.at[0, 'Issue Date']\n",
    "    pandas_first_ticket_dict[im] = im_first\n",
    "    #print(im, im_first)\n",
    "pandas_first_ticket = time.time()"
   ]
  },
  {
   "cell_type": "code",
   "execution_count": 10,
   "metadata": {},
   "outputs": [],
   "source": [
    "## Use SQL\n",
    "import psycopg2\n",
    "from psycopg2 import extras"
   ]
  },
  {
   "cell_type": "code",
   "execution_count": 11,
   "metadata": {},
   "outputs": [],
   "source": [
    "def get_query(query):\n",
    "    conn = psycopg2.connect(\n",
    "        \"dbname='postgres' user='xbbu' host='localhost' password='' port=5432\")\n",
    "    dict_cur = conn.cursor(cursor_factory=psycopg2.extras.RealDictCursor)\n",
    "    dict_cur.execute(query)\n",
    "    \n",
    "    results = dict_cur.fetchall()\n",
    "    \n",
    "    dict_cur.close()\n",
    "    conn.close()\n",
    "    \n",
    "    return results"
   ]
  },
  {
   "cell_type": "code",
   "execution_count": 12,
   "metadata": {},
   "outputs": [],
   "source": [
    "# query top makes\n",
    "sql_st = time.time()\n",
    "top_makes_query = \\\n",
    "    'select count(make), make from car_tickets group by make order by count(make) desc limit 25;'\n",
    "sql_top_makes = get_query(top_makes_query)\n",
    "sql_top_makes = [ii['make'] for ii in sql_top_makes]\n",
    "sql_top_makes_et = time.time()\n",
    "\n",
    "# get top color for each make\n",
    "sql_color_dict = {}\n",
    "for im in sql_top_makes:\n",
    "    im_query = \"select count(color), color from car_tickets where make='{}' group by color order by count(color) desc limit 1;\".format(im)\n",
    "    im_results = get_query(im_query)\n",
    "    im_results = [ii['color'] for ii in im_results]\n",
    "    #print(im_results)\n",
    "    sql_color_dict[im] = im_results[0]\n",
    "    \n",
    "sql_top_color_et = time.time()\n",
    "\n",
    "# get first ticket for each make\n",
    "sql_first_ticket_dict = {}\n",
    "for im in sql_top_makes:\n",
    "    im_query = \"select issue_date from car_tickets where make='{}' order by issue_date limit 1;\".format(im)\n",
    "    im_results = get_query(im_query)\n",
    "    im_results = [ii['issue_date'] for ii in im_results]\n",
    "    sql_first_ticket_dict[im] = im_results[0]\n",
    "    \n",
    "sql_first_ticket_et = time.time()"
   ]
  },
  {
   "cell_type": "code",
   "execution_count": 13,
   "metadata": {},
   "outputs": [
    {
     "name": "stdout",
     "output_type": "stream",
     "text": [
      "Time elapse for finding top 25 Makes is 0.41s and 0.65s for Pandas and SQL\n",
      "Time elapse for finding top color for each Make is 5.68s and 12.34 for Pandas and SQL\n",
      "Time elapse for finding first ticket for each Make is 8.48s and 40.26 for Pandas and SQL\n"
     ]
    }
   ],
   "source": [
    "print('Time elapse for finding top 25 Makes is {:.2f}s and {:.2f}s for Pandas and SQL'.format(\n",
    "    pandas_top_makes-pandas_st, sql_top_makes_et-sql_st))\n",
    "print('Time elapse for finding top color for each Make is {:.2f}s and {:.2f} for Pandas and SQL'.format(\n",
    "    pandas_top_color-pandas_top_makes, sql_top_color_et-sql_top_makes_et))\n",
    "print('Time elapse for finding first ticket for each Make is {:.2f}s and {:.2f} for Pandas and SQL'.format(\n",
    "    pandas_first_ticket-pandas_top_color, sql_first_ticket_et-sql_top_color_et))"
   ]
  },
  {
   "cell_type": "code",
   "execution_count": null,
   "metadata": {},
   "outputs": [],
   "source": [
    "\"\"\"\n",
    "For question regarding the expiration plates,\n",
    "we need to figure out if the ticket is issued in-state or out-state first.\n",
    "From the existed table, I could not tell.\n",
    "Here are steps I would take to solve this problem:\n",
    "\n",
    "Assuming 'RP State Plate' is the state status for the car, while 'Location'\n",
    "is for where the ticket is issued. We need to get 3rd-party data to determine\n",
    "if the location is in the 'RP state'.\n",
    "\n",
    "Once we knew that, we just need convert column 'Plate Expiry Date' to timestamp,\n",
    "then compare with 'Issue Date' to calculate the fraction of tickets\n",
    "which have 'Plate Expiry Date < Issue Date'\n",
    "\"\"\"     "
   ]
  }
 ],
 "metadata": {
  "kernelspec": {
   "display_name": "Python 3",
   "language": "python",
   "name": "python3"
  },
  "language_info": {
   "codemirror_mode": {
    "name": "ipython",
    "version": 3
   },
   "file_extension": ".py",
   "mimetype": "text/x-python",
   "name": "python",
   "nbconvert_exporter": "python",
   "pygments_lexer": "ipython3",
   "version": "3.6.2"
  }
 },
 "nbformat": 4,
 "nbformat_minor": 2
}
